{
  "nbformat": 4,
  "nbformat_minor": 0,
  "metadata": {
    "colab": {
      "provenance": [],
      "machine_shape": "hm",
      "gpuType": "A100"
    },
    "kernelspec": {
      "name": "python3",
      "display_name": "Python 3"
    },
    "language_info": {
      "name": "python"
    },
    "accelerator": "GPU"
  },
  "cells": [
    {
      "cell_type": "markdown",
      "source": [
        "Web Scraper"
      ],
      "metadata": {
        "id": "ax53sQskEWUD"
      }
    },
    {
      "cell_type": "code",
      "execution_count": 1,
      "metadata": {
        "colab": {
          "base_uri": "https://localhost:8080/"
        },
        "id": "HyF5tGHOELMU",
        "outputId": "44c1fe71-1b3a-46b5-f208-cd45e804b1dc"
      },
      "outputs": [
        {
          "output_type": "stream",
          "name": "stdout",
          "text": [
            "No Pokédex entries found for Walking Wake\n",
            "No Pokédex entries found for Iron Leaves\n",
            "No Pokédex entries found for Dipplin\n",
            "No Pokédex entries found for Poltchageist\n",
            "No Pokédex entries found for Sinistcha\n",
            "No Pokédex entries found for Okidogi\n",
            "No Pokédex entries found for Munkidori\n",
            "No Pokédex entries found for Fezandipiti\n",
            "No Pokédex entries found for Ogerpon\n",
            "No Pokédex entries found for Archaludon\n",
            "No Pokédex entries found for Hydrapple\n",
            "No Pokédex entries found for Gouging Fire\n",
            "No Pokédex entries found for Raging Bolt\n",
            "No Pokédex entries found for Iron Boulder\n",
            "No Pokédex entries found for Iron Crown\n",
            "No Pokédex entries found for Terapagos\n",
            "No Pokédex entries found for Pecharunt\n"
          ]
        }
      ],
      "source": [
        "import requests\n",
        "from bs4 import BeautifulSoup\n",
        "import pandas as pd\n",
        "\n",
        "# URL of the main Pokemon list page\n",
        "base_url = \"https://pokemondb.net\"\n",
        "list_url = f\"{base_url}/pokedex/national\"\n",
        "\n",
        "response = requests.get(list_url)\n",
        "soup = BeautifulSoup(response.text, 'html.parser')\n",
        "\n",
        "pokemon_links = soup.select('.infocard a.ent-name')\n",
        "pokemon_data = []\n",
        "\n",
        "# Extract data\n",
        "for link in pokemon_links:\n",
        "    name = link.text\n",
        "    url = f\"{base_url}{link['href']}\"\n",
        "\n",
        "    response = requests.get(url)\n",
        "    soup = BeautifulSoup(response.text, 'html.parser')\n",
        "\n",
        "    entries_table = soup.find('h2', string='Pokédex entries')\n",
        "    if entries_table:\n",
        "        entries_table = entries_table.find_next('table')\n",
        "        entries = [entry.text.strip() for entry in entries_table.select('td.cell-med-text')]\n",
        "    else:\n",
        "        entries = []\n",
        "        print(f\"No Pokédex entries found for {name}\")\n",
        "\n",
        "    # Find the stats table\n",
        "    stats_table = soup.find('h2', string='Base stats').find_next('table')\n",
        "    stats = {}\n",
        "    for row in stats_table.select('tbody > tr'):\n",
        "        stat_name = row.find('th').text.strip()\n",
        "        stat_value = row.find('td', class_='cell-num').text.strip()\n",
        "        stats[stat_name] = stat_value\n",
        "\n",
        "    for entry in entries:\n",
        "        pokemon_data.append({\n",
        "            'entry': entry,\n",
        "            'hp': stats['HP'],\n",
        "            'attack': stats['Attack'],\n",
        "            'defense': stats['Defense'],\n",
        "            'sp_atk': stats['Sp. Atk'],\n",
        "            'sp_def': stats['Sp. Def'],\n",
        "            'speed': stats['Speed'],\n",
        "        })\n",
        "\n",
        "# Save to CSV\n",
        "df = pd.DataFrame(pokemon_data)\n",
        "df.to_csv('pokemon_entries_stats.csv', index=False)"
      ]
    },
    {
      "cell_type": "markdown",
      "source": [
        "Randomize the order of the csv file to reduce bias\n"
      ],
      "metadata": {
        "id": "4abPKjloUIxt"
      }
    },
    {
      "cell_type": "code",
      "source": [
        "import pandas as pd\n",
        "import numpy as np\n",
        "\n",
        "df = pd.read_csv('pokemon_entries_stats.csv')\n",
        "\n",
        "randomized_df = df.sample(frac=1, random_state=42)\n",
        "\n",
        "randomized_df.to_csv('pokemon_entries_stats_randomized.csv', index=False)"
      ],
      "metadata": {
        "id": "1247gCOMUPzd"
      },
      "execution_count": 2,
      "outputs": []
    },
    {
      "cell_type": "markdown",
      "source": [
        "Peek at the data"
      ],
      "metadata": {
        "id": "AaDfUgYnVsKn"
      }
    },
    {
      "cell_type": "code",
      "source": [
        "# Load the dataset\n",
        "data_path = 'pokemon_entries_stats_randomized.csv'\n",
        "data = pd.read_csv(data_path)\n",
        "\n",
        "print(data.head())"
      ],
      "metadata": {
        "colab": {
          "base_uri": "https://localhost:8080/"
        },
        "id": "DswZm4xzi21C",
        "outputId": "4f83cfaa-29ea-498f-f22c-f03e6b70f831"
      },
      "execution_count": 3,
      "outputs": [
        {
          "output_type": "stream",
          "name": "stdout",
          "text": [
            "                                               entry   hp  attack  defense  \\\n",
            "0  Its healthy appetite leads to visible growth s...   70      55       75   \n",
            "1  The rich, fluffy fur that covers its body feel...  140      70       45   \n",
            "2  It has eyes that can see through anything. It ...   80     120       79   \n",
            "3  The fragrance of the garland on its head has a...   70      60       75   \n",
            "4  An examination of its cells revealed the prese...   55      65       95   \n",
            "\n",
            "   sp_atk  sp_def  speed  \n",
            "0      45      65     60  \n",
            "1      85      50     45  \n",
            "2      95      79     70  \n",
            "3     110      75     90  \n",
            "4      95      45     85  \n"
          ]
        }
      ]
    },
    {
      "cell_type": "markdown",
      "source": [
        "Preprocessing"
      ],
      "metadata": {
        "id": "M-rQPWCmjAAz"
      }
    },
    {
      "cell_type": "code",
      "source": [
        "import nltk\n",
        "from nltk.corpus import stopwords\n",
        "from nltk.tokenize import word_tokenize\n",
        "from nltk.stem import WordNetLemmatizer\n",
        "nltk.download('punkt')\n",
        "nltk.download('stopwords')\n",
        "nltk.download('wordnet')\n",
        "\n",
        "def preprocess_text(text):\n",
        "    text = text.lower()\n",
        "    tokens = word_tokenize(text)\n",
        "\n",
        "    # Remove stopwords\n",
        "    stop_words = set(stopwords.words('english'))\n",
        "    tokens = [word for word in tokens if word not in stop_words]\n",
        "\n",
        "    # Lemmatize words\n",
        "    lemmatizer = WordNetLemmatizer()\n",
        "    tokens = [lemmatizer.lemmatize(word) for word in tokens]\n",
        "\n",
        "    return ' '.join(tokens)\n",
        "\n",
        "data['processed_entries'] = data['entry'].apply(preprocess_text)\n",
        "stats = data[['hp', 'attack', 'defense', 'sp_atk', 'sp_def', 'speed']]\n",
        "\n",
        "stats_normalized = (stats - stats.mean()) / stats.std()\n"
      ],
      "metadata": {
        "colab": {
          "base_uri": "https://localhost:8080/"
        },
        "id": "FrixGXKwjBba",
        "outputId": "85846675-425f-4c0e-be17-689c3f1ea6eb"
      },
      "execution_count": 4,
      "outputs": [
        {
          "output_type": "stream",
          "name": "stderr",
          "text": [
            "[nltk_data] Downloading package punkt to /root/nltk_data...\n",
            "[nltk_data]   Unzipping tokenizers/punkt.zip.\n",
            "[nltk_data] Downloading package stopwords to /root/nltk_data...\n",
            "[nltk_data]   Unzipping corpora/stopwords.zip.\n",
            "[nltk_data] Downloading package wordnet to /root/nltk_data...\n"
          ]
        }
      ]
    },
    {
      "cell_type": "markdown",
      "source": [
        "Split data"
      ],
      "metadata": {
        "id": "G7y2rC-1jLFS"
      }
    },
    {
      "cell_type": "code",
      "source": [
        "from sklearn.model_selection import train_test_split\n",
        "\n",
        "# Splitting the dataset\n",
        "train, temp = train_test_split(data, test_size=0.2, random_state=42)\n",
        "valid, test = train_test_split(temp, test_size=0.5, random_state=42)\n",
        "\n",
        "# Tokenize and pad sequences\n",
        "from tensorflow.keras.preprocessing.text import Tokenizer\n",
        "from tensorflow.keras.preprocessing.sequence import pad_sequences\n",
        "\n",
        "tokenizer = Tokenizer(num_words=10000, oov_token='<OOV>')\n",
        "tokenizer.fit_on_texts(train['processed_entries'])\n",
        "\n",
        "train_sequences = tokenizer.texts_to_sequences(train['processed_entries'])\n",
        "valid_sequences = tokenizer.texts_to_sequences(valid['processed_entries'])\n",
        "test_sequences = tokenizer.texts_to_sequences(test['processed_entries'])\n",
        "\n",
        "train_padded = pad_sequences(train_sequences, padding='post', maxlen=100)\n",
        "valid_padded = pad_sequences(valid_sequences, padding='post', maxlen=100)\n",
        "test_padded = pad_sequences(test_sequences, padding='post', maxlen=100)\n",
        "\n",
        "# Extract normalized stats for training and validation\n",
        "train_stats = stats_normalized.loc[train.index].values\n",
        "valid_stats = stats_normalized.loc[valid.index].values\n"
      ],
      "metadata": {
        "id": "pHI2NveijMBJ"
      },
      "execution_count": 5,
      "outputs": []
    },
    {
      "cell_type": "markdown",
      "source": [
        "Build Model"
      ],
      "metadata": {
        "id": "6uNMjg9NjPyx"
      }
    },
    {
      "cell_type": "code",
      "source": [
        "import tensorflow as tf\n",
        "\n",
        "# RNN model\n",
        "model = tf.keras.Sequential([\n",
        "    tf.keras.layers.Embedding(10000, 16, input_length=100),\n",
        "    tf.keras.layers.Bidirectional(tf.keras.layers.LSTM(64)),\n",
        "    tf.keras.layers.Dense(64, activation='relu'),\n",
        "    tf.keras.layers.Dense(6)  # One output for each stat\n",
        "])\n",
        "\n",
        "# Compile w/ mse\n",
        "model.compile(loss='mean_squared_error', optimizer='adam', metrics=['mean_absolute_error'])\n",
        "\n",
        "# Train the model\n",
        "history = model.fit(train_padded, train_stats, epochs=10, validation_data=(valid_padded, valid_stats))\n"
      ],
      "metadata": {
        "colab": {
          "base_uri": "https://localhost:8080/"
        },
        "id": "nnAudl6fjRIK",
        "outputId": "ce918cf8-6735-4de5-af8e-e5d396fc31a9"
      },
      "execution_count": 30,
      "outputs": [
        {
          "output_type": "stream",
          "name": "stdout",
          "text": [
            "Epoch 1/10\n",
            "296/296 [==============================] - 13s 32ms/step - loss: 0.8684 - mean_absolute_error: 0.7193 - val_loss: 0.7203 - val_mean_absolute_error: 0.6452\n",
            "Epoch 2/10\n",
            "296/296 [==============================] - 4s 14ms/step - loss: 0.6198 - mean_absolute_error: 0.5908 - val_loss: 0.6226 - val_mean_absolute_error: 0.5996\n",
            "Epoch 3/10\n",
            "296/296 [==============================] - 4s 12ms/step - loss: 0.4460 - mean_absolute_error: 0.5027 - val_loss: 0.5121 - val_mean_absolute_error: 0.5355\n",
            "Epoch 4/10\n",
            "296/296 [==============================] - 4s 12ms/step - loss: 0.3132 - mean_absolute_error: 0.4206 - val_loss: 0.4798 - val_mean_absolute_error: 0.5100\n",
            "Epoch 5/10\n",
            "296/296 [==============================] - 4s 12ms/step - loss: 0.2395 - mean_absolute_error: 0.3658 - val_loss: 0.4686 - val_mean_absolute_error: 0.4890\n",
            "Epoch 6/10\n",
            "296/296 [==============================] - 4s 12ms/step - loss: 0.1900 - mean_absolute_error: 0.3245 - val_loss: 0.4482 - val_mean_absolute_error: 0.4697\n",
            "Epoch 7/10\n",
            "296/296 [==============================] - 3s 11ms/step - loss: 0.1527 - mean_absolute_error: 0.2899 - val_loss: 0.4484 - val_mean_absolute_error: 0.4585\n",
            "Epoch 8/10\n",
            "296/296 [==============================] - 3s 11ms/step - loss: 0.1290 - mean_absolute_error: 0.2663 - val_loss: 0.4438 - val_mean_absolute_error: 0.4497\n",
            "Epoch 9/10\n",
            "296/296 [==============================] - 3s 11ms/step - loss: 0.1095 - mean_absolute_error: 0.2452 - val_loss: 0.4497 - val_mean_absolute_error: 0.4425\n",
            "Epoch 10/10\n",
            "296/296 [==============================] - 3s 11ms/step - loss: 0.0931 - mean_absolute_error: 0.2249 - val_loss: 0.4649 - val_mean_absolute_error: 0.4440\n"
          ]
        }
      ]
    },
    {
      "cell_type": "markdown",
      "source": [
        "Loss curves"
      ],
      "metadata": {
        "id": "V1f3Ovw1lntg"
      }
    },
    {
      "cell_type": "code",
      "source": [
        "import matplotlib.pyplot as plt\n",
        "\n",
        "plt.plot(history.history['loss'], label='Training Loss')\n",
        "plt.plot(history.history['val_loss'], label='Validation Loss')\n",
        "plt.xlabel('Epoch')\n",
        "plt.ylabel('Loss')\n",
        "plt.legend()\n",
        "plt.show()"
      ],
      "metadata": {
        "colab": {
          "base_uri": "https://localhost:8080/",
          "height": 452
        },
        "id": "IeDE96VflsWw",
        "outputId": "9e60995d-59f0-4998-af5b-999900575c69"
      },
      "execution_count": 31,
      "outputs": [
        {
          "output_type": "display_data",
          "data": {
            "text/plain": [
              "<Figure size 640x480 with 1 Axes>"
            ],
            "image/png": "[encoded data removed]"
          },
          "metadata": {}
        }
      ]
    },
    {
      "cell_type": "markdown",
      "source": [
        "Evaluate Model"
      ],
      "metadata": {
        "id": "uP3U6wtsleMY"
      }
    },
    {
      "cell_type": "code",
      "source": [
        "test_loss, test_mae = model.evaluate(test_padded, stats_normalized.loc[test.index].values)\n",
        "print(f\"Test Loss: {test_loss:.4f}, Test MAE: {test_mae:.4f}\")"
      ],
      "metadata": {
        "colab": {
          "base_uri": "https://localhost:8080/"
        },
        "id": "XaErkt4IlfTa",
        "outputId": "3b152875-d9e1-42b9-9b97-aaeb22b21423"
      },
      "execution_count": 32,
      "outputs": [
        {
          "output_type": "stream",
          "name": "stdout",
          "text": [
            "37/37 [==============================] - 0s 5ms/step - loss: 0.4622 - mean_absolute_error: 0.4474\n",
            "Test Loss: 0.4622, Test MAE: 0.4474\n"
          ]
        }
      ]
    },
    {
      "cell_type": "markdown",
      "source": [
        "Peek at Predictions"
      ],
      "metadata": {
        "id": "nfxNfSZvmINq"
      }
    },
    {
      "cell_type": "code",
      "source": [
        "num_samples = 5\n",
        "sample_indices = np.random.choice(len(test), num_samples, replace=False)\n",
        "\n",
        "for idx in sample_indices:\n",
        "    entry = test.iloc[idx]['entry']\n",
        "    true_stats = stats.iloc[test.index[idx]]\n",
        "    predicted_stats_normalized = model.predict(np.expand_dims(test_padded[idx], axis=0))\n",
        "    predicted_stats_normalized = predicted_stats_normalized.reshape(-1)\n",
        "\n",
        "    # Denormalize the predicted stats\n",
        "    predicted_stats = np.round(predicted_stats_normalized * stats.std().values + stats.mean().values)\n",
        "\n",
        "    print(f\"Pokédex Entry: {entry}\")\n",
        "    print(f\"True Stats: {true_stats.values}\")\n",
        "    print(f\"Predicted Normalized Stats: {predicted_stats_normalized}\")\n",
        "    print(f\"Predicted Stats: {predicted_stats}\")\n",
        "    print(\"---\")"
      ],
      "metadata": {
        "colab": {
          "base_uri": "https://localhost:8080/"
        },
        "id": "yeeOB6tpmLLo",
        "outputId": "251e15dd-cef7-45f3-bac1-7e9a8adc3dd0"
      },
      "execution_count": 33,
      "outputs": [
        {
          "output_type": "stream",
          "name": "stdout",
          "text": [
            "1/1 [==============================] - 1s 648ms/step\n",
            "Pokédex Entry: This POKéMON’s stomach is so strong, even eating moldy or rotten food will not affect it.\n",
            "True Stats: [160 110  65  65 110  30]\n",
            "Predicted Normalized Stats: [ 3.674666    0.32169843 -0.16602542 -0.08142618  1.1114341  -1.13347   ]\n",
            "Predicted Stats: [171.  84.  65.  65.  99.  34.]\n",
            "---\n",
            "1/1 [==============================] - 0s 21ms/step\n",
            "Pokédex Entry: Although it always pretends to be a tree, its composition appears to be closer to a rock than a plant.\n",
            "True Stats: [ 70 100 115  30  65  30]\n",
            "Predicted Normalized Stats: [-0.37459874  0.63916653  1.3216221  -1.4761685  -1.0870728  -1.0031598 ]\n",
            "Predicted Stats: [ 58.  93. 109.  26.  40.  38.]\n",
            "---\n",
            "1/1 [==============================] - 0s 21ms/step\n",
            "Pokédex Entry: As its body grows, large mushrooms named tochukaso start sprouting out of its back.\n",
            "True Stats: [35 70 55 45 55 25]\n",
            "Predicted Normalized Stats: [-1.093967   -0.4092077  -0.45202622 -0.79398054 -0.77772355 -1.2858483 ]\n",
            "Predicted Stats: [37. 62. 57. 45. 48. 30.]\n",
            "---\n",
            "1/1 [==============================] - 0s 21ms/step\n",
            "Pokédex Entry: Emitting ultrasonic cries, it floats on winds to travel great distances.\n",
            "True Stats: [75 50 80 95 90 65]\n",
            "Predicted Normalized Stats: [-0.9193367 -1.3784196 -1.0219209 -1.3729178 -1.2954649 -0.092452 ]\n",
            "Predicted Stats: [42. 34. 40. 29. 34. 63.]\n",
            "---\n",
            "1/1 [==============================] - 0s 22ms/step\n",
            "Pokédex Entry: There are rumors that peeking inside its bandage-wrapped body will cause one to get pulled in through the gaps between the bandages, never to return. I’ve been too scared to verify.\n",
            "True Stats: [ 40  70 130  60 130  25]\n",
            "Predicted Normalized Stats: [-1.2516402  -0.9358412  -0.68456095 -0.6834358  -0.43171343 -0.645834  ]\n",
            "Predicted Stats: [33. 47. 50. 48. 57. 48.]\n",
            "---\n"
          ]
        }
      ]
    }
  ]
}