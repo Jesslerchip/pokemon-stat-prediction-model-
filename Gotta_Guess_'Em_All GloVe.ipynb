{
  "cells": [
    {
      "cell_type": "markdown",
      "metadata": {
        "id": "ax53sQskEWUD"
      },
      "source": [
        "Web Scraper"
      ]
    },
    {
      "cell_type": "code",
      "execution_count": 2,
      "metadata": {
        "colab": {
          "base_uri": "https://localhost:8080/"
        },
        "id": "HyF5tGHOELMU",
        "outputId": "b5fcf08a-26a6-4a96-a2ee-f4fb5d56a532"
      },
      "outputs": [
        {
          "output_type": "stream",
          "name": "stdout",
          "text": [
            "No Pokédex entries found for Walking Wake\n",
            "No Pokédex entries found for Iron Leaves\n",
            "No Pokédex entries found for Dipplin\n",
            "No Pokédex entries found for Poltchageist\n",
            "No Pokédex entries found for Sinistcha\n",
            "No Pokédex entries found for Okidogi\n",
            "No Pokédex entries found for Munkidori\n",
            "No Pokédex entries found for Fezandipiti\n",
            "No Pokédex entries found for Ogerpon\n",
            "No Pokédex entries found for Archaludon\n",
            "No Pokédex entries found for Hydrapple\n",
            "No Pokédex entries found for Gouging Fire\n",
            "No Pokédex entries found for Raging Bolt\n",
            "No Pokédex entries found for Iron Boulder\n",
            "No Pokédex entries found for Iron Crown\n",
            "No Pokédex entries found for Terapagos\n",
            "No Pokédex entries found for Pecharunt\n"
          ]
        }
      ],
      "source": [
        "import requests\n",
        "from bs4 import BeautifulSoup\n",
        "import pandas as pd\n",
        "\n",
        "# URL of the main Pokemon list page\n",
        "base_url = \"https://pokemondb.net\"\n",
        "list_url = f\"{base_url}/pokedex/national\"\n",
        "\n",
        "response = requests.get(list_url)\n",
        "soup = BeautifulSoup(response.text, 'html.parser')\n",
        "\n",
        "pokemon_links = soup.select('.infocard a.ent-name')\n",
        "pokemon_data = []\n",
        "\n",
        "# Extract data\n",
        "for link in pokemon_links:\n",
        "    name = link.text\n",
        "    url = f\"{base_url}{link['href']}\"\n",
        "\n",
        "    response = requests.get(url)\n",
        "    soup = BeautifulSoup(response.text, 'html.parser')\n",
        "\n",
        "    entries_table = soup.find('h2', string='Pokédex entries')\n",
        "    if entries_table:\n",
        "        entries_table = entries_table.find_next('table')\n",
        "        entries = [entry.text.strip() for entry in entries_table.select('td.cell-med-text')]\n",
        "    else:\n",
        "        entries = []\n",
        "        print(f\"No Pokédex entries found for {name}\")\n",
        "\n",
        "    # Find the stats table\n",
        "    stats_table = soup.find('h2', string='Base stats').find_next('table')\n",
        "    stats = {}\n",
        "    for row in stats_table.select('tbody > tr'):\n",
        "        stat_name = row.find('th').text.strip()\n",
        "        stat_value = row.find('td', class_='cell-num').text.strip()\n",
        "        stats[stat_name] = stat_value\n",
        "\n",
        "    for entry in entries:\n",
        "        pokemon_data.append({\n",
        "            'entry': entry,\n",
        "            'hp': stats['HP'],\n",
        "            'attack': stats['Attack'],\n",
        "            'defense': stats['Defense'],\n",
        "            'sp_atk': stats['Sp. Atk'],\n",
        "            'sp_def': stats['Sp. Def'],\n",
        "            'speed': stats['Speed'],\n",
        "        })\n",
        "\n",
        "# Save to CSV\n",
        "df = pd.DataFrame(pokemon_data)\n",
        "df.to_csv('pokemon_entries_stats.csv', index=False)"
      ]
    },
    {
      "cell_type": "markdown",
      "metadata": {
        "id": "4abPKjloUIxt"
      },
      "source": [
        "Randomize the order of the csv file to reduce bias\n"
      ]
    },
    {
      "cell_type": "code",
      "execution_count": 4,
      "metadata": {
        "id": "1247gCOMUPzd"
      },
      "outputs": [],
      "source": [
        "import pandas as pd\n",
        "import numpy as np\n",
        "\n",
        "df = pd.read_csv('pokemon_entries_stats.csv')\n",
        "\n",
        "randomized_df = df.sample(frac=1, random_state=42)\n",
        "\n",
        "randomized_df.to_csv('pokemon_entries_stats_randomized.csv', index=False)"
      ]
    },
    {
      "cell_type": "markdown",
      "metadata": {
        "id": "AaDfUgYnVsKn"
      },
      "source": [
        "Peek at the data"
      ]
    },
    {
      "cell_type": "code",
      "execution_count": 5,
      "metadata": {
        "colab": {
          "base_uri": "https://localhost:8080/"
        },
        "id": "DswZm4xzi21C",
        "outputId": "52c59ff3-649a-4250-d333-21a69c7a1b82"
      },
      "outputs": [
        {
          "output_type": "stream",
          "name": "stdout",
          "text": [
            "                                               entry   hp  attack  defense  \\\n",
            "0  Its healthy appetite leads to visible growth s...   70      55       75   \n",
            "1  The rich, fluffy fur that covers its body feel...  140      70       45   \n",
            "2  It has eyes that can see through anything. It ...   80     120       79   \n",
            "3  The fragrance of the garland on its head has a...   70      60       75   \n",
            "4  An examination of its cells revealed the prese...   55      65       95   \n",
            "\n",
            "   sp_atk  sp_def  speed  \n",
            "0      45      65     60  \n",
            "1      85      50     45  \n",
            "2      95      79     70  \n",
            "3     110      75     90  \n",
            "4      95      45     85  \n"
          ]
        }
      ],
      "source": [
        "# Load the dataset\n",
        "data_path = 'pokemon_entries_stats_randomized.csv'\n",
        "data = pd.read_csv(data_path)\n",
        "\n",
        "print(data.head())"
      ]
    },
    {
      "cell_type": "markdown",
      "metadata": {
        "id": "M-rQPWCmjAAz"
      },
      "source": [
        "Preprocessing"
      ]
    },
    {
      "cell_type": "code",
      "execution_count": 10,
      "metadata": {
        "colab": {
          "base_uri": "https://localhost:8080/"
        },
        "id": "FrixGXKwjBba",
        "outputId": "d08c45b3-864c-48a8-892c-55f2d9dfa769"
      },
      "outputs": [
        {
          "output_type": "stream",
          "name": "stderr",
          "text": [
            "[nltk_data] Downloading package punkt to /root/nltk_data...\n",
            "[nltk_data]   Package punkt is already up-to-date!\n",
            "[nltk_data] Downloading package stopwords to /root/nltk_data...\n",
            "[nltk_data]   Package stopwords is already up-to-date!\n",
            "[nltk_data] Downloading package wordnet to /root/nltk_data...\n",
            "[nltk_data]   Package wordnet is already up-to-date!\n"
          ]
        }
      ],
      "source": [
        "import nltk\n",
        "from nltk.corpus import stopwords\n",
        "from nltk.tokenize import word_tokenize\n",
        "from nltk.stem import WordNetLemmatizer\n",
        "nltk.download('punkt')\n",
        "nltk.download('stopwords')\n",
        "nltk.download('wordnet')\n",
        "\n",
        "def preprocess_text(text):\n",
        "    text = text.lower()\n",
        "    tokens = word_tokenize(text)\n",
        "\n",
        "    # Remove stopwords\n",
        "    stop_words = set(stopwords.words('english'))\n",
        "    tokens = [word for word in tokens if word not in stop_words]\n",
        "\n",
        "    # Lemmatize words\n",
        "    lemmatizer = WordNetLemmatizer()\n",
        "    tokens = [lemmatizer.lemmatize(word) for word in tokens]\n",
        "\n",
        "    return ' '.join(tokens)\n",
        "\n",
        "data['processed_entries'] = data['entry'].apply(preprocess_text)\n",
        "stats = data[['hp', 'attack', 'defense', 'sp_atk', 'sp_def', 'speed']]\n",
        "\n",
        "stats_normalized = (stats - stats.mean()) / stats.std()\n"
      ]
    },
    {
      "cell_type": "markdown",
      "metadata": {
        "id": "2Wyt8fuT0rxH"
      },
      "source": [
        "GloVe Embeddings"
      ]
    },
    {
      "cell_type": "code",
      "execution_count": 12,
      "metadata": {
        "colab": {
          "base_uri": "https://localhost:8080/"
        },
        "id": "THvLu-UO06Bq",
        "outputId": "3f08918b-4c72-4f26-94b8-ade26ca5d1f2"
      },
      "outputs": [
        {
          "output_type": "stream",
          "name": "stdout",
          "text": [
            "--2024-05-06 22:01:08--  https://huggingface.co/stanfordnlp/glove/resolve/main/glove.42B.300d.zip\n",
            "Resolving huggingface.co (huggingface.co)... 13.33.30.114, 13.33.30.76, 13.33.30.23, ...\n",
            "Connecting to huggingface.co (huggingface.co)|13.33.30.114|:443... connected.\n",
            "HTTP request sent, awaiting response... 302 Found\n",
            "Location: https://cdn-lfs.huggingface.co/stanfordnlp/glove/357baac33090f645e71e253b3295ee1b767c98a0336e9a1d99c77e9e33b43c4a?response-content-disposition=attachment%3B+filename*%3DUTF-8%27%27glove.42B.300d.zip%3B+filename%3D%22glove.42B.300d.zip%22%3B&response-content-type=application%2Fzip&Expires=1715290853&Policy=eyJTdGF0ZW1lbnQiOlt7IkNvbmRpdGlvbiI6eyJEYXRlTGVzc1RoYW4iOnsiQVdTOkVwb2NoVGltZSI6MTcxNTI5MDg1M319LCJSZXNvdXJjZSI6Imh0dHBzOi8vY2RuLWxmcy5odWdnaW5nZmFjZS5jby9zdGFuZm9yZG5scC9nbG92ZS8zNTdiYWFjMzMwOTBmNjQ1ZTcxZTI1M2IzMjk1ZWUxYjc2N2M5OGEwMzM2ZTlhMWQ5OWM3N2U5ZTMzYjQzYzRhP3Jlc3BvbnNlLWNvbnRlbnQtZGlzcG9zaXRpb249KiZyZXNwb25zZS1jb250ZW50LXR5cGU9KiJ9XX0_&Signature=lNm7zlTAMBzyBcIypVp8Gkxe6fxxXq6r7r8hyuipq4oQZwCkWe5vBiyMBuXDd6tR7w2DUmY%7EbFLYxUP-TztwHc-vLj7IX2VjjMLW4Jv%7EU8ttU1Dg%7EDoleRfXL-cXz-aZvxJVUiiCreVn3qnSJx%7EjI%7ExebNJ9MqVXoE37SlxFGOifCplvigDArVZUBA0TktXl9uZ64eLc8gwu-ikydCtFj5QbReiYAZn5Zk0G876w5cchoFmgP%7E7efLdbsBKp2oWklE56WU43BFYxQRs23uonu8QnVVkq0YPiQQcAuRT%7EMZVu63NsF23PVRn5axx9ta2%7E12mJV2BIkdfQDM8iERdCMQ__&Key-Pair-Id=KVTP0A1DKRTAX [following]\n",
            "--2024-05-06 22:01:08--  https://cdn-lfs.huggingface.co/stanfordnlp/glove/357baac33090f645e71e253b3295ee1b767c98a0336e9a1d99c77e9e33b43c4a?response-content-disposition=attachment%3B+filename*%3DUTF-8%27%27glove.42B.300d.zip%3B+filename%3D%22glove.42B.300d.zip%22%3B&response-content-type=application%2Fzip&Expires=1715290853&Policy=eyJTdGF0ZW1lbnQiOlt7IkNvbmRpdGlvbiI6eyJEYXRlTGVzc1RoYW4iOnsiQVdTOkVwb2NoVGltZSI6MTcxNTI5MDg1M319LCJSZXNvdXJjZSI6Imh0dHBzOi8vY2RuLWxmcy5odWdnaW5nZmFjZS5jby9zdGFuZm9yZG5scC9nbG92ZS8zNTdiYWFjMzMwOTBmNjQ1ZTcxZTI1M2IzMjk1ZWUxYjc2N2M5OGEwMzM2ZTlhMWQ5OWM3N2U5ZTMzYjQzYzRhP3Jlc3BvbnNlLWNvbnRlbnQtZGlzcG9zaXRpb249KiZyZXNwb25zZS1jb250ZW50LXR5cGU9KiJ9XX0_&Signature=lNm7zlTAMBzyBcIypVp8Gkxe6fxxXq6r7r8hyuipq4oQZwCkWe5vBiyMBuXDd6tR7w2DUmY%7EbFLYxUP-TztwHc-vLj7IX2VjjMLW4Jv%7EU8ttU1Dg%7EDoleRfXL-cXz-aZvxJVUiiCreVn3qnSJx%7EjI%7ExebNJ9MqVXoE37SlxFGOifCplvigDArVZUBA0TktXl9uZ64eLc8gwu-ikydCtFj5QbReiYAZn5Zk0G876w5cchoFmgP%7E7efLdbsBKp2oWklE56WU43BFYxQRs23uonu8QnVVkq0YPiQQcAuRT%7EMZVu63NsF23PVRn5axx9ta2%7E12mJV2BIkdfQDM8iERdCMQ__&Key-Pair-Id=KVTP0A1DKRTAX\n",
            "Resolving cdn-lfs.huggingface.co (cdn-lfs.huggingface.co)... 108.156.133.103, 108.156.133.109, 108.156.133.68, ...\n",
            "Connecting to cdn-lfs.huggingface.co (cdn-lfs.huggingface.co)|108.156.133.103|:443... connected.\n",
            "HTTP request sent, awaiting response... 200 OK\n",
            "Length: 1877802108 (1.7G) [application/zip]\n",
            "Saving to: ‘glove.42B.300d.zip’\n",
            "\n",
            "glove.42B.300d.zip  100%[===================>]   1.75G   448MB/s    in 3.9s    \n",
            "\n",
            "2024-05-06 22:01:12 (453 MB/s) - ‘glove.42B.300d.zip’ saved [1877802108/1877802108]\n",
            "\n",
            "Archive:  glove.42B.300d.zip\n",
            "  inflating: glove.42B.300d.txt      \n"
          ]
        }
      ],
      "source": [
        "!wget https://huggingface.co/stanfordnlp/glove/resolve/main/glove.42B.300d.zip\n",
        "!unzip glove.42B.300d.zip\n",
        "\n",
        "\n",
        "\n",
        "import numpy as np\n",
        "\n",
        "# Help with contextual information\n",
        "def load_glove_embeddings(filepath, embedding_dim):\n",
        "    embeddings_index = {}\n",
        "    with open(filepath, 'r', encoding='utf-8') as file:\n",
        "        for line in file:\n",
        "            values = line.split()\n",
        "            word = values[0]\n",
        "            vector = np.asarray(values[1:], dtype='float32')\n",
        "            embeddings_index[word] = vector\n",
        "    return embeddings_index\n",
        "\n",
        "embedding_dim = 300\n",
        "glove_path = f\"glove.42B.300d.txt\"\n",
        "glove_embeddings = load_glove_embeddings(glove_path, embedding_dim)"
      ]
    },
    {
      "cell_type": "markdown",
      "metadata": {
        "id": "G7y2rC-1jLFS"
      },
      "source": [
        "Split data"
      ]
    },
    {
      "cell_type": "code",
      "execution_count": 13,
      "metadata": {
        "id": "pHI2NveijMBJ"
      },
      "outputs": [],
      "source": [
        "from sklearn.model_selection import train_test_split\n",
        "\n",
        "# Splitting the dataset\n",
        "train, temp = train_test_split(data, test_size=0.2, random_state=42)\n",
        "valid, test = train_test_split(temp, test_size=0.5, random_state=42)\n",
        "\n",
        "# Tokenize and pad sequences\n",
        "from tensorflow.keras.preprocessing.text import Tokenizer\n",
        "from tensorflow.keras.preprocessing.sequence import pad_sequences\n",
        "\n",
        "tokenizer = Tokenizer(num_words=10000, oov_token='<OOV>')\n",
        "tokenizer.fit_on_texts(train['processed_entries'])\n",
        "\n",
        "train_sequences = tokenizer.texts_to_sequences(train['processed_entries'])\n",
        "valid_sequences = tokenizer.texts_to_sequences(valid['processed_entries'])\n",
        "test_sequences = tokenizer.texts_to_sequences(test['processed_entries'])\n",
        "\n",
        "train_padded = pad_sequences(train_sequences, padding='post', maxlen=100)\n",
        "valid_padded = pad_sequences(valid_sequences, padding='post', maxlen=100)\n",
        "test_padded = pad_sequences(test_sequences, padding='post', maxlen=100)\n",
        "\n",
        "# Extract normalized stats for training and validation\n",
        "train_stats = stats_normalized.loc[train.index].values\n",
        "valid_stats = stats_normalized.loc[valid.index].values\n"
      ]
    },
    {
      "cell_type": "markdown",
      "metadata": {
        "id": "6uNMjg9NjPyx"
      },
      "source": [
        "Build Model"
      ]
    },
    {
      "cell_type": "code",
      "execution_count": 16,
      "metadata": {
        "colab": {
          "base_uri": "https://localhost:8080/"
        },
        "id": "nnAudl6fjRIK",
        "outputId": "8dd0e996-ee03-45f5-c493-2751cd680c4e"
      },
      "outputs": [
        {
          "output_type": "stream",
          "name": "stdout",
          "text": [
            "Epoch 1/100\n",
            "296/296 [==============================] - 14s 23ms/step - loss: 0.7202 - mean_squared_error: 0.8944 - val_loss: 0.6823 - val_mean_squared_error: 0.8150\n",
            "Epoch 2/100\n",
            "296/296 [==============================] - 5s 18ms/step - loss: 0.6320 - mean_squared_error: 0.7382 - val_loss: 0.6163 - val_mean_squared_error: 0.7092\n",
            "Epoch 3/100\n",
            "296/296 [==============================] - 5s 17ms/step - loss: 0.5613 - mean_squared_error: 0.6243 - val_loss: 0.5831 - val_mean_squared_error: 0.6360\n",
            "Epoch 4/100\n",
            "296/296 [==============================] - 5s 17ms/step - loss: 0.5024 - mean_squared_error: 0.5306 - val_loss: 0.5449 - val_mean_squared_error: 0.5828\n",
            "Epoch 5/100\n",
            "296/296 [==============================] - 5s 18ms/step - loss: 0.4547 - mean_squared_error: 0.4572 - val_loss: 0.5134 - val_mean_squared_error: 0.5521\n",
            "Epoch 6/100\n",
            "296/296 [==============================] - 5s 18ms/step - loss: 0.4118 - mean_squared_error: 0.3944 - val_loss: 0.4883 - val_mean_squared_error: 0.5033\n",
            "Epoch 7/100\n",
            "296/296 [==============================] - 5s 18ms/step - loss: 0.3777 - mean_squared_error: 0.3432 - val_loss: 0.4733 - val_mean_squared_error: 0.4823\n",
            "Epoch 8/100\n",
            "296/296 [==============================] - 5s 18ms/step - loss: 0.3482 - mean_squared_error: 0.2992 - val_loss: 0.4557 - val_mean_squared_error: 0.4522\n",
            "Epoch 9/100\n",
            "296/296 [==============================] - 5s 18ms/step - loss: 0.3199 - mean_squared_error: 0.2576 - val_loss: 0.4434 - val_mean_squared_error: 0.4341\n",
            "Epoch 10/100\n",
            "296/296 [==============================] - 5s 17ms/step - loss: 0.2988 - mean_squared_error: 0.2265 - val_loss: 0.4372 - val_mean_squared_error: 0.4179\n",
            "Epoch 11/100\n",
            "296/296 [==============================] - 5s 18ms/step - loss: 0.2785 - mean_squared_error: 0.1972 - val_loss: 0.4182 - val_mean_squared_error: 0.3957\n",
            "Epoch 12/100\n",
            "296/296 [==============================] - 5s 18ms/step - loss: 0.2611 - mean_squared_error: 0.1732 - val_loss: 0.4162 - val_mean_squared_error: 0.3957\n",
            "Epoch 13/100\n",
            "296/296 [==============================] - 5s 18ms/step - loss: 0.2472 - mean_squared_error: 0.1569 - val_loss: 0.4090 - val_mean_squared_error: 0.3886\n",
            "Epoch 14/100\n",
            "296/296 [==============================] - 5s 18ms/step - loss: 0.2349 - mean_squared_error: 0.1429 - val_loss: 0.4010 - val_mean_squared_error: 0.3827\n",
            "Epoch 15/100\n",
            "296/296 [==============================] - 5s 18ms/step - loss: 0.2218 - mean_squared_error: 0.1300 - val_loss: 0.3988 - val_mean_squared_error: 0.3793\n",
            "Epoch 16/100\n",
            "296/296 [==============================] - 5s 18ms/step - loss: 0.2119 - mean_squared_error: 0.1194 - val_loss: 0.3867 - val_mean_squared_error: 0.3678\n",
            "Epoch 17/100\n",
            "296/296 [==============================] - 5s 18ms/step - loss: 0.2027 - mean_squared_error: 0.1107 - val_loss: 0.3856 - val_mean_squared_error: 0.3667\n",
            "Epoch 18/100\n",
            "296/296 [==============================] - 6s 20ms/step - loss: 0.1947 - mean_squared_error: 0.1025 - val_loss: 0.3863 - val_mean_squared_error: 0.3733\n",
            "Epoch 19/100\n",
            "296/296 [==============================] - 6s 20ms/step - loss: 0.1859 - mean_squared_error: 0.0942 - val_loss: 0.3793 - val_mean_squared_error: 0.3649\n",
            "Epoch 20/100\n",
            "296/296 [==============================] - 6s 20ms/step - loss: 0.1801 - mean_squared_error: 0.0891 - val_loss: 0.3751 - val_mean_squared_error: 0.3615\n",
            "Epoch 21/100\n",
            "296/296 [==============================] - 6s 19ms/step - loss: 0.1736 - mean_squared_error: 0.0831 - val_loss: 0.3749 - val_mean_squared_error: 0.3648\n",
            "Epoch 22/100\n",
            "296/296 [==============================] - 5s 18ms/step - loss: 0.1673 - mean_squared_error: 0.0775 - val_loss: 0.3767 - val_mean_squared_error: 0.3641\n",
            "Epoch 23/100\n",
            "296/296 [==============================] - 5s 17ms/step - loss: 0.1630 - mean_squared_error: 0.0735 - val_loss: 0.3679 - val_mean_squared_error: 0.3565\n",
            "Epoch 24/100\n",
            "296/296 [==============================] - 5s 18ms/step - loss: 0.1579 - mean_squared_error: 0.0695 - val_loss: 0.3642 - val_mean_squared_error: 0.3551\n",
            "Epoch 25/100\n",
            "296/296 [==============================] - 5s 18ms/step - loss: 0.1544 - mean_squared_error: 0.0659 - val_loss: 0.3650 - val_mean_squared_error: 0.3562\n",
            "Epoch 26/100\n",
            "296/296 [==============================] - 5s 18ms/step - loss: 0.1501 - mean_squared_error: 0.0623 - val_loss: 0.3611 - val_mean_squared_error: 0.3574\n",
            "Epoch 27/100\n",
            "296/296 [==============================] - 5s 18ms/step - loss: 0.1461 - mean_squared_error: 0.0594 - val_loss: 0.3620 - val_mean_squared_error: 0.3522\n",
            "Epoch 28/100\n",
            "296/296 [==============================] - 5s 18ms/step - loss: 0.1426 - mean_squared_error: 0.0563 - val_loss: 0.3560 - val_mean_squared_error: 0.3517\n",
            "Epoch 29/100\n",
            "296/296 [==============================] - 5s 17ms/step - loss: 0.1383 - mean_squared_error: 0.0537 - val_loss: 0.3601 - val_mean_squared_error: 0.3549\n",
            "Epoch 30/100\n",
            "296/296 [==============================] - 5s 17ms/step - loss: 0.1361 - mean_squared_error: 0.0519 - val_loss: 0.3569 - val_mean_squared_error: 0.3512\n",
            "Epoch 31/100\n",
            "296/296 [==============================] - 5s 18ms/step - loss: 0.1330 - mean_squared_error: 0.0493 - val_loss: 0.3546 - val_mean_squared_error: 0.3507\n",
            "Epoch 32/100\n",
            "296/296 [==============================] - 5s 18ms/step - loss: 0.1293 - mean_squared_error: 0.0466 - val_loss: 0.3540 - val_mean_squared_error: 0.3531\n",
            "Epoch 33/100\n",
            "296/296 [==============================] - 5s 19ms/step - loss: 0.1259 - mean_squared_error: 0.0447 - val_loss: 0.3519 - val_mean_squared_error: 0.3461\n",
            "Epoch 34/100\n",
            "296/296 [==============================] - 5s 18ms/step - loss: 0.1243 - mean_squared_error: 0.0431 - val_loss: 0.3497 - val_mean_squared_error: 0.3427\n",
            "Epoch 35/100\n",
            "296/296 [==============================] - 5s 18ms/step - loss: 0.1222 - mean_squared_error: 0.0415 - val_loss: 0.3506 - val_mean_squared_error: 0.3474\n",
            "Epoch 36/100\n",
            "296/296 [==============================] - 5s 17ms/step - loss: 0.1206 - mean_squared_error: 0.0400 - val_loss: 0.3474 - val_mean_squared_error: 0.3430\n",
            "Epoch 37/100\n",
            "296/296 [==============================] - 5s 17ms/step - loss: 0.1171 - mean_squared_error: 0.0383 - val_loss: 0.3539 - val_mean_squared_error: 0.3537\n",
            "Epoch 38/100\n",
            "296/296 [==============================] - 5s 18ms/step - loss: 0.1149 - mean_squared_error: 0.0368 - val_loss: 0.3464 - val_mean_squared_error: 0.3446\n",
            "Epoch 39/100\n",
            "296/296 [==============================] - 5s 18ms/step - loss: 0.1133 - mean_squared_error: 0.0358 - val_loss: 0.3457 - val_mean_squared_error: 0.3462\n",
            "Epoch 40/100\n",
            "296/296 [==============================] - 5s 18ms/step - loss: 0.1116 - mean_squared_error: 0.0347 - val_loss: 0.3433 - val_mean_squared_error: 0.3439\n",
            "Epoch 41/100\n",
            "296/296 [==============================] - 5s 18ms/step - loss: 0.1114 - mean_squared_error: 0.0343 - val_loss: 0.3403 - val_mean_squared_error: 0.3429\n",
            "Epoch 42/100\n",
            "296/296 [==============================] - 5s 18ms/step - loss: 0.1085 - mean_squared_error: 0.0328 - val_loss: 0.3428 - val_mean_squared_error: 0.3412\n",
            "Epoch 43/100\n",
            "296/296 [==============================] - 5s 17ms/step - loss: 0.1058 - mean_squared_error: 0.0312 - val_loss: 0.3424 - val_mean_squared_error: 0.3452\n",
            "Epoch 44/100\n",
            "296/296 [==============================] - 5s 18ms/step - loss: 0.1046 - mean_squared_error: 0.0303 - val_loss: 0.3410 - val_mean_squared_error: 0.3448\n"
          ]
        }
      ],
      "source": [
        "import tensorflow as tf\n",
        "\n",
        "# Embedding layer\n",
        "num_words = len(tokenizer.word_index) + 1\n",
        "embedding_matrix = np.zeros((num_words, embedding_dim))\n",
        "\n",
        "for word, i in tokenizer.word_index.items():\n",
        "    embedding_vector = glove_embeddings.get(word)\n",
        "    if embedding_vector is not None:\n",
        "        embedding_matrix[i] = embedding_vector\n",
        "\n",
        "\n",
        "# RNN Model\n",
        "model = tf.keras.Sequential([\n",
        "    tf.keras.layers.Embedding(num_words, embedding_dim, weights=[embedding_matrix], input_length=100, trainable=False),\n",
        "    tf.keras.layers.Bidirectional(tf.keras.layers.LSTM(64, return_sequences=True)),\n",
        "    tf.keras.layers.Bidirectional(tf.keras.layers.LSTM(32)),\n",
        "    tf.keras.layers.Dense(64, activation='relu'),\n",
        "    tf.keras.layers.Dense(32, activation='relu'),\n",
        "    tf.keras.layers.Dense(6)  # One output for each stat\n",
        "])\n",
        "\n",
        "# Compile\n",
        "model.compile(loss='mean_absolute_error', optimizer='adam', metrics=['mean_squared_error'])\n",
        "\n",
        "# Train\n",
        "early_stopping = tf.keras.callbacks.EarlyStopping(monitor='val_loss', patience=3, restore_best_weights=True)\n",
        "history = model.fit(train_padded, train_stats, epochs=100, validation_data=(valid_padded, valid_stats), callbacks=[early_stopping])"
      ]
    },
    {
      "cell_type": "markdown",
      "metadata": {
        "id": "V1f3Ovw1lntg"
      },
      "source": [
        "Loss curves"
      ]
    },
    {
      "cell_type": "code",
      "execution_count": 17,
      "metadata": {
        "colab": {
          "base_uri": "https://localhost:8080/",
          "height": 449
        },
        "id": "IeDE96VflsWw",
        "outputId": "e16a3b33-d60c-4231-97ca-d61eac79c1ed"
      },
      "outputs": [
        {
          "output_type": "display_data",
          "data": {
            "text/plain": [
              "<Figure size 640x480 with 1 Axes>"
            ],
            "image/png": "[encoded data removed]"
          },
          "metadata": {}
        }
      ],
      "source": [
        "import matplotlib.pyplot as plt\n",
        "\n",
        "plt.plot(history.history['loss'], label='Training Loss')\n",
        "plt.plot(history.history['val_loss'], label='Validation Loss')\n",
        "plt.xlabel('Epoch')\n",
        "plt.ylabel('Loss')\n",
        "plt.legend()\n",
        "plt.show()"
      ]
    },
    {
      "cell_type": "markdown",
      "metadata": {
        "id": "uP3U6wtsleMY"
      },
      "source": [
        "Evaluate Model"
      ]
    },
    {
      "cell_type": "code",
      "execution_count": 18,
      "metadata": {
        "colab": {
          "base_uri": "https://localhost:8080/"
        },
        "id": "XaErkt4IlfTa",
        "outputId": "a8bf479f-1487-4413-8bd0-6f1590ad6ee5"
      },
      "outputs": [
        {
          "output_type": "stream",
          "name": "stdout",
          "text": [
            "37/37 [==============================] - 0s 8ms/step - loss: 0.3579 - mean_squared_error: 0.3663\n",
            "Test Loss: 0.3579, Test MAE: 0.3663\n"
          ]
        }
      ],
      "source": [
        "test_loss, test_mae = model.evaluate(test_padded, stats_normalized.loc[test.index].values)\n",
        "print(f\"Test Loss: {test_loss:.4f}, Test MAE: {test_mae:.4f}\")"
      ]
    },
    {
      "cell_type": "markdown",
      "metadata": {
        "id": "nfxNfSZvmINq"
      },
      "source": [
        "Peek at Predictions"
      ]
    },
    {
      "cell_type": "code",
      "execution_count": 19,
      "metadata": {
        "colab": {
          "base_uri": "https://localhost:8080/"
        },
        "id": "yeeOB6tpmLLo",
        "outputId": "0d41fef6-e2c8-4f4a-bc45-2475fa5f5d20"
      },
      "outputs": [
        {
          "output_type": "stream",
          "name": "stdout",
          "text": [
            "1/1 [==============================] - 1s 1s/step\n",
            "Pokédex Entry: Just like a plant, it uses photosynthesis. As a result, it is always enveloped in clear air.\n",
            "True Stats: [ 65 110 130  60  65  95]\n",
            "Predicted Stats: [ 67. 111. 131.  64.  64.  93.]\n",
            "---\n",
            "1/1 [==============================] - 0s 26ms/step\n",
            "Pokédex Entry: After lowering its anchor, it waits for its prey. It catches large Wailord and drains their life-force.\n",
            "True Stats: [ 70 131 100  86  90  40]\n",
            "Predicted Stats: [85. 70. 59. 78. 60. 75.]\n",
            "---\n",
            "1/1 [==============================] - 0s 25ms/step\n",
            "Pokédex Entry: ARIADOS’s feet are tipped with tiny hooked claws that enable it to scuttle on ceilings and vertical walls. This POKéMON constricts the foe with thin and strong silk webbing.\n",
            "True Stats: [70 90 70 60 70 40]\n",
            "Predicted Stats: [59. 70. 54. 67. 54. 48.]\n",
            "---\n",
            "1/1 [==============================] - 0s 26ms/step\n",
            "Pokédex Entry: Miltank produces highly nutritious milk, so it’s been supporting the lives of people and other Pokémon since ancient times.\n",
            "True Stats: [ 95  80 105  40  70 100]\n",
            "Predicted Stats: [109.  74.  94.  41.  80.  92.]\n",
            "---\n",
            "1/1 [==============================] - 0s 26ms/step\n",
            "Pokédex Entry: The pressurized water jets on this brutal POKéMON’s shell are used for high-speed tackles.\n",
            "True Stats: [ 79  83 100  85 105  78]\n",
            "Predicted Stats: [ 68.  88. 118. 104.  85.  56.]\n",
            "---\n"
          ]
        }
      ],
      "source": [
        "num_samples = 5\n",
        "sample_indices = np.random.choice(len(test), num_samples, replace=False)\n",
        "\n",
        "for idx in sample_indices:\n",
        "    entry = test.iloc[idx]['entry']\n",
        "    true_stats = stats.iloc[test.index[idx]]\n",
        "    predicted_stats_normalized = model.predict(np.expand_dims(test_padded[idx], axis=0))\n",
        "    predicted_stats_normalized = predicted_stats_normalized.reshape(-1)\n",
        "\n",
        "    # Denormalize the predicted stats\n",
        "    predicted_stats = np.round(predicted_stats_normalized * stats.std().values + stats.mean().values)\n",
        "\n",
        "    print(f\"Pokédex Entry: {entry}\")\n",
        "    print(f\"True Stats: {true_stats.values}\")\n",
        "    print(f\"Predicted Stats: {predicted_stats}\")\n",
        "    print(\"---\")"
      ]
    },
    {
      "cell_type": "markdown",
      "metadata": {
        "id": "fEYHcSL5wETU"
      },
      "source": [
        "Test With User Input"
      ]
    },
    {
      "cell_type": "code",
      "execution_count": 22,
      "metadata": {
        "colab": {
          "base_uri": "https://localhost:8080/"
        },
        "id": "VJJNQTIfwGEh",
        "outputId": "50560f88-7aa5-42f1-f637-987bd94dd2d9"
      },
      "outputs": [
        {
          "name": "stdout",
          "output_type": "stream",
          "text": [
            "Enter a fake Pokédex entry (or 'quit' to exit): It fires rocks charged with electricity. Even if the rock isn’t fired that accurately, just grazing an opponent will cause numbness and fainting.\n",
            "1/1 [==============================] - 0s 31ms/step\n",
            "Predicted Stats:\n",
            "HP: 75.0\n",
            "Attack: 121.0\n",
            "Defense: 90.0\n",
            "Special Attack: 71.0\n",
            "Special Defense: 81.0\n",
            "Speed: 86.0\n",
            "---\n",
            "Enter a fake Pokédex entry (or 'quit' to exit): quit\n"
          ]
        }
      ],
      "source": [
        "# Get user input for testing\n",
        "while True:\n",
        "    user_input = input(\"Enter a fake Pokédex entry (or 'quit' to exit): \")\n",
        "    if user_input.lower() == 'quit':\n",
        "        break\n",
        "\n",
        "    user_input_processed = preprocess_text(user_input)\n",
        "    user_input_sequence = tokenizer.texts_to_sequences([user_input_processed])\n",
        "    user_input_padded = pad_sequences(user_input_sequence, padding='post', maxlen=100)\n",
        "\n",
        "    # Make predictions on the user input\n",
        "    user_input_predicted_normalized = model.predict(user_input_padded)\n",
        "    user_input_predicted_normalized = user_input_predicted_normalized.reshape(-1)\n",
        "\n",
        "    user_input_predicted = np.round(user_input_predicted_normalized * stats.std().values + stats.mean().values)\n",
        "\n",
        "    print(\"Predicted Stats:\")\n",
        "    print(\"HP:\", user_input_predicted[0])\n",
        "    print(\"Attack:\", user_input_predicted[1])\n",
        "    print(\"Defense:\", user_input_predicted[2])\n",
        "    print(\"Special Attack:\", user_input_predicted[3])\n",
        "    print(\"Special Defense:\", user_input_predicted[4])\n",
        "    print(\"Speed:\", user_input_predicted[5])\n",
        "    print(\"---\")"
      ]
    }
  ],
  "metadata": {
    "accelerator": "GPU",
    "colab": {
      "gpuType": "A100",
      "machine_shape": "hm",
      "provenance": []
    },
    "kernelspec": {
      "display_name": "Python 3",
      "name": "python3"
    },
    "language_info": {
      "name": "python"
    }
  },
  "nbformat": 4,
  "nbformat_minor": 0
}