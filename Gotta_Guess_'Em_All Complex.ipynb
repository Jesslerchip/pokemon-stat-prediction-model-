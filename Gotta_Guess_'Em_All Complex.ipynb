{
  "nbformat": 4,
  "nbformat_minor": 0,
  "metadata": {
    "colab": {
      "provenance": [],
      "machine_shape": "hm",
      "gpuType": "A100"
    },
    "kernelspec": {
      "name": "python3",
      "display_name": "Python 3"
    },
    "language_info": {
      "name": "python"
    },
    "accelerator": "GPU"
  },
  "cells": [
    {
      "cell_type": "markdown",
      "source": [
        "Web Scraper"
      ],
      "metadata": {
        "id": "ax53sQskEWUD"
      }
    },
    {
      "cell_type": "code",
      "execution_count": 1,
      "metadata": {
        "colab": {
          "base_uri": "https://localhost:8080/"
        },
        "id": "HyF5tGHOELMU",
        "outputId": "44c1fe71-1b3a-46b5-f208-cd45e804b1dc"
      },
      "outputs": [
        {
          "output_type": "stream",
          "name": "stdout",
          "text": [
            "No Pokédex entries found for Walking Wake\n",
            "No Pokédex entries found for Iron Leaves\n",
            "No Pokédex entries found for Dipplin\n",
            "No Pokédex entries found for Poltchageist\n",
            "No Pokédex entries found for Sinistcha\n",
            "No Pokédex entries found for Okidogi\n",
            "No Pokédex entries found for Munkidori\n",
            "No Pokédex entries found for Fezandipiti\n",
            "No Pokédex entries found for Ogerpon\n",
            "No Pokédex entries found for Archaludon\n",
            "No Pokédex entries found for Hydrapple\n",
            "No Pokédex entries found for Gouging Fire\n",
            "No Pokédex entries found for Raging Bolt\n",
            "No Pokédex entries found for Iron Boulder\n",
            "No Pokédex entries found for Iron Crown\n",
            "No Pokédex entries found for Terapagos\n",
            "No Pokédex entries found for Pecharunt\n"
          ]
        }
      ],
      "source": [
        "import requests\n",
        "from bs4 import BeautifulSoup\n",
        "import pandas as pd\n",
        "\n",
        "# URL of the main Pokemon list page\n",
        "base_url = \"https://pokemondb.net\"\n",
        "list_url = f\"{base_url}/pokedex/national\"\n",
        "\n",
        "response = requests.get(list_url)\n",
        "soup = BeautifulSoup(response.text, 'html.parser')\n",
        "\n",
        "pokemon_links = soup.select('.infocard a.ent-name')\n",
        "pokemon_data = []\n",
        "\n",
        "# Extract data\n",
        "for link in pokemon_links:\n",
        "    name = link.text\n",
        "    url = f\"{base_url}{link['href']}\"\n",
        "\n",
        "    response = requests.get(url)\n",
        "    soup = BeautifulSoup(response.text, 'html.parser')\n",
        "\n",
        "    entries_table = soup.find('h2', string='Pokédex entries')\n",
        "    if entries_table:\n",
        "        entries_table = entries_table.find_next('table')\n",
        "        entries = [entry.text.strip() for entry in entries_table.select('td.cell-med-text')]\n",
        "    else:\n",
        "        entries = []\n",
        "        print(f\"No Pokédex entries found for {name}\")\n",
        "\n",
        "    # Find the stats table\n",
        "    stats_table = soup.find('h2', string='Base stats').find_next('table')\n",
        "    stats = {}\n",
        "    for row in stats_table.select('tbody > tr'):\n",
        "        stat_name = row.find('th').text.strip()\n",
        "        stat_value = row.find('td', class_='cell-num').text.strip()\n",
        "        stats[stat_name] = stat_value\n",
        "\n",
        "    for entry in entries:\n",
        "        pokemon_data.append({\n",
        "            'entry': entry,\n",
        "            'hp': stats['HP'],\n",
        "            'attack': stats['Attack'],\n",
        "            'defense': stats['Defense'],\n",
        "            'sp_atk': stats['Sp. Atk'],\n",
        "            'sp_def': stats['Sp. Def'],\n",
        "            'speed': stats['Speed'],\n",
        "        })\n",
        "\n",
        "# Save to CSV\n",
        "df = pd.DataFrame(pokemon_data)\n",
        "df.to_csv('pokemon_entries_stats.csv', index=False)"
      ]
    },
    {
      "cell_type": "markdown",
      "source": [
        "Randomize the order of the csv file to reduce bias\n"
      ],
      "metadata": {
        "id": "4abPKjloUIxt"
      }
    },
    {
      "cell_type": "code",
      "source": [
        "import pandas as pd\n",
        "import numpy as np\n",
        "\n",
        "df = pd.read_csv('pokemon_entries_stats.csv')\n",
        "\n",
        "randomized_df = df.sample(frac=1, random_state=42)\n",
        "\n",
        "randomized_df.to_csv('pokemon_entries_stats_randomized.csv', index=False)"
      ],
      "metadata": {
        "id": "1247gCOMUPzd"
      },
      "execution_count": 2,
      "outputs": []
    },
    {
      "cell_type": "markdown",
      "source": [
        "Peek at the data"
      ],
      "metadata": {
        "id": "AaDfUgYnVsKn"
      }
    },
    {
      "cell_type": "code",
      "source": [
        "# Load the dataset\n",
        "data_path = 'pokemon_entries_stats_randomized.csv'\n",
        "data = pd.read_csv(data_path)\n",
        "\n",
        "print(data.head())"
      ],
      "metadata": {
        "colab": {
          "base_uri": "https://localhost:8080/"
        },
        "id": "DswZm4xzi21C",
        "outputId": "4f83cfaa-29ea-498f-f22c-f03e6b70f831"
      },
      "execution_count": 3,
      "outputs": [
        {
          "output_type": "stream",
          "name": "stdout",
          "text": [
            "                                               entry   hp  attack  defense  \\\n",
            "0  Its healthy appetite leads to visible growth s...   70      55       75   \n",
            "1  The rich, fluffy fur that covers its body feel...  140      70       45   \n",
            "2  It has eyes that can see through anything. It ...   80     120       79   \n",
            "3  The fragrance of the garland on its head has a...   70      60       75   \n",
            "4  An examination of its cells revealed the prese...   55      65       95   \n",
            "\n",
            "   sp_atk  sp_def  speed  \n",
            "0      45      65     60  \n",
            "1      85      50     45  \n",
            "2      95      79     70  \n",
            "3     110      75     90  \n",
            "4      95      45     85  \n"
          ]
        }
      ]
    },
    {
      "cell_type": "markdown",
      "source": [
        "Preprocessing"
      ],
      "metadata": {
        "id": "M-rQPWCmjAAz"
      }
    },
    {
      "cell_type": "code",
      "source": [
        "import nltk\n",
        "from nltk.corpus import stopwords\n",
        "from nltk.tokenize import word_tokenize\n",
        "from nltk.stem import WordNetLemmatizer\n",
        "nltk.download('punkt')\n",
        "nltk.download('stopwords')\n",
        "nltk.download('wordnet')\n",
        "\n",
        "def preprocess_text(text):\n",
        "    text = text.lower()\n",
        "    tokens = word_tokenize(text)\n",
        "\n",
        "    # Remove stopwords\n",
        "    stop_words = set(stopwords.words('english'))\n",
        "    tokens = [word for word in tokens if word not in stop_words]\n",
        "\n",
        "    # Lemmatize words\n",
        "    lemmatizer = WordNetLemmatizer()\n",
        "    tokens = [lemmatizer.lemmatize(word) for word in tokens]\n",
        "\n",
        "    return ' '.join(tokens)\n",
        "\n",
        "data['processed_entries'] = data['entry'].apply(preprocess_text)\n",
        "stats = data[['hp', 'attack', 'defense', 'sp_atk', 'sp_def', 'speed']]\n",
        "\n",
        "stats_normalized = (stats - stats.mean()) / stats.std()\n"
      ],
      "metadata": {
        "colab": {
          "base_uri": "https://localhost:8080/"
        },
        "id": "FrixGXKwjBba",
        "outputId": "85846675-425f-4c0e-be17-689c3f1ea6eb"
      },
      "execution_count": 4,
      "outputs": [
        {
          "output_type": "stream",
          "name": "stderr",
          "text": [
            "[nltk_data] Downloading package punkt to /root/nltk_data...\n",
            "[nltk_data]   Unzipping tokenizers/punkt.zip.\n",
            "[nltk_data] Downloading package stopwords to /root/nltk_data...\n",
            "[nltk_data]   Unzipping corpora/stopwords.zip.\n",
            "[nltk_data] Downloading package wordnet to /root/nltk_data...\n"
          ]
        }
      ]
    },
    {
      "cell_type": "markdown",
      "source": [
        "Split data"
      ],
      "metadata": {
        "id": "G7y2rC-1jLFS"
      }
    },
    {
      "cell_type": "code",
      "source": [
        "from sklearn.model_selection import train_test_split\n",
        "\n",
        "# Splitting the dataset\n",
        "train, temp = train_test_split(data, test_size=0.2, random_state=42)\n",
        "valid, test = train_test_split(temp, test_size=0.5, random_state=42)\n",
        "\n",
        "# Tokenize and pad sequences\n",
        "from tensorflow.keras.preprocessing.text import Tokenizer\n",
        "from tensorflow.keras.preprocessing.sequence import pad_sequences\n",
        "\n",
        "tokenizer = Tokenizer(num_words=10000, oov_token='<OOV>')\n",
        "tokenizer.fit_on_texts(train['processed_entries'])\n",
        "\n",
        "train_sequences = tokenizer.texts_to_sequences(train['processed_entries'])\n",
        "valid_sequences = tokenizer.texts_to_sequences(valid['processed_entries'])\n",
        "test_sequences = tokenizer.texts_to_sequences(test['processed_entries'])\n",
        "\n",
        "train_padded = pad_sequences(train_sequences, padding='post', maxlen=100)\n",
        "valid_padded = pad_sequences(valid_sequences, padding='post', maxlen=100)\n",
        "test_padded = pad_sequences(test_sequences, padding='post', maxlen=100)\n",
        "\n",
        "# Extract normalized stats for training and validation\n",
        "train_stats = stats_normalized.loc[train.index].values\n",
        "valid_stats = stats_normalized.loc[valid.index].values\n"
      ],
      "metadata": {
        "id": "pHI2NveijMBJ"
      },
      "execution_count": 5,
      "outputs": []
    },
    {
      "cell_type": "markdown",
      "source": [
        "Build Model"
      ],
      "metadata": {
        "id": "6uNMjg9NjPyx"
      }
    },
    {
      "cell_type": "code",
      "source": [
        "import tensorflow as tf\n",
        "\n",
        "# RNN Model\n",
        "model = tf.keras.Sequential([\n",
        "    tf.keras.layers.Embedding(10000, 32, input_length=100),\n",
        "    tf.keras.layers.Bidirectional(tf.keras.layers.LSTM(64, return_sequences=True)),\n",
        "    tf.keras.layers.Bidirectional(tf.keras.layers.LSTM(32)),\n",
        "    tf.keras.layers.Dense(64, activation='relu'),\n",
        "    tf.keras.layers.Dense(32, activation='relu'),\n",
        "    tf.keras.layers.Dense(6)  # One output for each stat\n",
        "])\n",
        "\n",
        "# Compile\n",
        "model.compile(loss='mean_absolute_error', optimizer='adam', metrics=['mean_squared_error'])\n",
        "\n",
        "# Train\n",
        "early_stopping = tf.keras.callbacks.EarlyStopping(monitor='val_loss', patience=3, restore_best_weights=True)\n",
        "history = model.fit(train_padded, train_stats, epochs=100, validation_data=(valid_padded, valid_stats), callbacks=[early_stopping])"
      ],
      "metadata": {
        "colab": {
          "base_uri": "https://localhost:8080/"
        },
        "id": "nnAudl6fjRIK",
        "outputId": "2fc4d7e1-8007-45ee-ba40-e2f2d467241e"
      },
      "execution_count": 41,
      "outputs": [
        {
          "output_type": "stream",
          "name": "stdout",
          "text": [
            "Epoch 1/100\n",
            "296/296 [==============================] - 18s 40ms/step - loss: 0.7262 - mean_squared_error: 0.9183 - val_loss: 0.6516 - val_mean_squared_error: 0.7762\n",
            "Epoch 2/100\n",
            "296/296 [==============================] - 6s 21ms/step - loss: 0.5905 - mean_squared_error: 0.6847 - val_loss: 0.5980 - val_mean_squared_error: 0.6884\n",
            "Epoch 3/100\n",
            "296/296 [==============================] - 6s 20ms/step - loss: 0.5265 - mean_squared_error: 0.5880 - val_loss: 0.5604 - val_mean_squared_error: 0.6274\n",
            "Epoch 4/100\n",
            "296/296 [==============================] - 6s 19ms/step - loss: 0.4720 - mean_squared_error: 0.5002 - val_loss: 0.5322 - val_mean_squared_error: 0.5881\n",
            "Epoch 5/100\n",
            "296/296 [==============================] - 6s 19ms/step - loss: 0.4255 - mean_squared_error: 0.4270 - val_loss: 0.5139 - val_mean_squared_error: 0.5614\n",
            "Epoch 6/100\n",
            "296/296 [==============================] - 6s 19ms/step - loss: 0.3917 - mean_squared_error: 0.3749 - val_loss: 0.4964 - val_mean_squared_error: 0.5233\n",
            "Epoch 7/100\n",
            "296/296 [==============================] - 6s 19ms/step - loss: 0.3614 - mean_squared_error: 0.3268 - val_loss: 0.4739 - val_mean_squared_error: 0.4916\n",
            "Epoch 8/100\n",
            "296/296 [==============================] - 5s 18ms/step - loss: 0.3304 - mean_squared_error: 0.2706 - val_loss: 0.4575 - val_mean_squared_error: 0.4593\n",
            "Epoch 9/100\n",
            "296/296 [==============================] - 6s 20ms/step - loss: 0.2969 - mean_squared_error: 0.2159 - val_loss: 0.4432 - val_mean_squared_error: 0.4370\n",
            "Epoch 10/100\n",
            "296/296 [==============================] - 5s 18ms/step - loss: 0.2715 - mean_squared_error: 0.1778 - val_loss: 0.4264 - val_mean_squared_error: 0.4176\n",
            "Epoch 11/100\n",
            "296/296 [==============================] - 6s 19ms/step - loss: 0.2511 - mean_squared_error: 0.1550 - val_loss: 0.4218 - val_mean_squared_error: 0.4124\n",
            "Epoch 12/100\n",
            "296/296 [==============================] - 6s 19ms/step - loss: 0.2341 - mean_squared_error: 0.1349 - val_loss: 0.4158 - val_mean_squared_error: 0.4138\n",
            "Epoch 13/100\n",
            "296/296 [==============================] - 6s 19ms/step - loss: 0.2212 - mean_squared_error: 0.1214 - val_loss: 0.4053 - val_mean_squared_error: 0.4053\n",
            "Epoch 14/100\n",
            "296/296 [==============================] - 6s 19ms/step - loss: 0.2083 - mean_squared_error: 0.1094 - val_loss: 0.4020 - val_mean_squared_error: 0.3975\n",
            "Epoch 15/100\n",
            "296/296 [==============================] - 5s 19ms/step - loss: 0.1996 - mean_squared_error: 0.1010 - val_loss: 0.3956 - val_mean_squared_error: 0.3913\n",
            "Epoch 16/100\n",
            "296/296 [==============================] - 5s 18ms/step - loss: 0.1902 - mean_squared_error: 0.0929 - val_loss: 0.3903 - val_mean_squared_error: 0.3872\n",
            "Epoch 17/100\n",
            "296/296 [==============================] - 5s 18ms/step - loss: 0.1811 - mean_squared_error: 0.0849 - val_loss: 0.3915 - val_mean_squared_error: 0.3949\n",
            "Epoch 18/100\n",
            "296/296 [==============================] - 5s 18ms/step - loss: 0.1747 - mean_squared_error: 0.0795 - val_loss: 0.3859 - val_mean_squared_error: 0.3873\n",
            "Epoch 19/100\n",
            "296/296 [==============================] - 5s 18ms/step - loss: 0.1670 - mean_squared_error: 0.0735 - val_loss: 0.3797 - val_mean_squared_error: 0.3813\n",
            "Epoch 20/100\n",
            "296/296 [==============================] - 5s 18ms/step - loss: 0.1602 - mean_squared_error: 0.0688 - val_loss: 0.3765 - val_mean_squared_error: 0.3778\n",
            "Epoch 21/100\n",
            "296/296 [==============================] - 5s 18ms/step - loss: 0.1535 - mean_squared_error: 0.0638 - val_loss: 0.3718 - val_mean_squared_error: 0.3752\n",
            "Epoch 22/100\n",
            "296/296 [==============================] - 6s 19ms/step - loss: 0.1494 - mean_squared_error: 0.0599 - val_loss: 0.3679 - val_mean_squared_error: 0.3714\n",
            "Epoch 23/100\n",
            "296/296 [==============================] - 5s 18ms/step - loss: 0.1429 - mean_squared_error: 0.0556 - val_loss: 0.3655 - val_mean_squared_error: 0.3734\n",
            "Epoch 24/100\n",
            "296/296 [==============================] - 5s 18ms/step - loss: 0.1371 - mean_squared_error: 0.0515 - val_loss: 0.3643 - val_mean_squared_error: 0.3717\n",
            "Epoch 25/100\n",
            "296/296 [==============================] - 6s 19ms/step - loss: 0.1329 - mean_squared_error: 0.0484 - val_loss: 0.3616 - val_mean_squared_error: 0.3720\n",
            "Epoch 26/100\n",
            "296/296 [==============================] - 5s 18ms/step - loss: 0.1273 - mean_squared_error: 0.0449 - val_loss: 0.3582 - val_mean_squared_error: 0.3691\n",
            "Epoch 27/100\n",
            "296/296 [==============================] - 5s 18ms/step - loss: 0.1227 - mean_squared_error: 0.0420 - val_loss: 0.3599 - val_mean_squared_error: 0.3700\n",
            "Epoch 28/100\n",
            "296/296 [==============================] - 6s 19ms/step - loss: 0.1184 - mean_squared_error: 0.0392 - val_loss: 0.3633 - val_mean_squared_error: 0.3768\n",
            "Epoch 29/100\n",
            "296/296 [==============================] - 6s 19ms/step - loss: 0.1161 - mean_squared_error: 0.0374 - val_loss: 0.3549 - val_mean_squared_error: 0.3685\n",
            "Epoch 30/100\n",
            "296/296 [==============================] - 5s 18ms/step - loss: 0.1118 - mean_squared_error: 0.0351 - val_loss: 0.3483 - val_mean_squared_error: 0.3601\n",
            "Epoch 31/100\n",
            "296/296 [==============================] - 6s 19ms/step - loss: 0.1093 - mean_squared_error: 0.0333 - val_loss: 0.3499 - val_mean_squared_error: 0.3644\n",
            "Epoch 32/100\n",
            "296/296 [==============================] - 5s 18ms/step - loss: 0.1066 - mean_squared_error: 0.0317 - val_loss: 0.3459 - val_mean_squared_error: 0.3601\n",
            "Epoch 33/100\n",
            "296/296 [==============================] - 5s 18ms/step - loss: 0.1024 - mean_squared_error: 0.0297 - val_loss: 0.3434 - val_mean_squared_error: 0.3564\n",
            "Epoch 34/100\n",
            "296/296 [==============================] - 5s 18ms/step - loss: 0.1009 - mean_squared_error: 0.0283 - val_loss: 0.3434 - val_mean_squared_error: 0.3608\n",
            "Epoch 35/100\n",
            "296/296 [==============================] - 5s 19ms/step - loss: 0.0988 - mean_squared_error: 0.0271 - val_loss: 0.3398 - val_mean_squared_error: 0.3541\n",
            "Epoch 36/100\n",
            "296/296 [==============================] - 5s 18ms/step - loss: 0.0964 - mean_squared_error: 0.0253 - val_loss: 0.3399 - val_mean_squared_error: 0.3579\n",
            "Epoch 37/100\n",
            "296/296 [==============================] - 5s 18ms/step - loss: 0.0943 - mean_squared_error: 0.0238 - val_loss: 0.3385 - val_mean_squared_error: 0.3561\n",
            "Epoch 38/100\n",
            "296/296 [==============================] - 5s 18ms/step - loss: 0.0927 - mean_squared_error: 0.0228 - val_loss: 0.3416 - val_mean_squared_error: 0.3580\n",
            "Epoch 39/100\n",
            "296/296 [==============================] - 5s 18ms/step - loss: 0.0913 - mean_squared_error: 0.0219 - val_loss: 0.3391 - val_mean_squared_error: 0.3562\n",
            "Epoch 40/100\n",
            "296/296 [==============================] - 5s 18ms/step - loss: 0.0915 - mean_squared_error: 0.0216 - val_loss: 0.3385 - val_mean_squared_error: 0.3562\n"
          ]
        }
      ]
    },
    {
      "cell_type": "markdown",
      "source": [
        "Loss curves"
      ],
      "metadata": {
        "id": "V1f3Ovw1lntg"
      }
    },
    {
      "cell_type": "code",
      "source": [
        "import matplotlib.pyplot as plt\n",
        "\n",
        "plt.plot(history.history['loss'], label='Training Loss')\n",
        "plt.plot(history.history['val_loss'], label='Validation Loss')\n",
        "plt.xlabel('Epoch')\n",
        "plt.ylabel('Loss')\n",
        "plt.legend()\n",
        "plt.show()"
      ],
      "metadata": {
        "colab": {
          "base_uri": "https://localhost:8080/",
          "height": 449
        },
        "id": "IeDE96VflsWw",
        "outputId": "502556a3-3d1f-4c8f-8443-ef0093ea796b"
      },
      "execution_count": 42,
      "outputs": [
        {
          "output_type": "display_data",
          "data": {
            "text/plain": [
              "<Figure size 640x480 with 1 Axes>"
            ],
            "image/png": "[encoded data removed]"
          },
          "metadata": {}
        }
      ]
    },
    {
      "cell_type": "markdown",
      "source": [
        "Evaluate Model"
      ],
      "metadata": {
        "id": "uP3U6wtsleMY"
      }
    },
    {
      "cell_type": "code",
      "source": [
        "test_loss, test_mae = model.evaluate(test_padded, stats_normalized.loc[test.index].values)\n",
        "print(f\"Test Loss: {test_loss:.4f}, Test MAE: {test_mae:.4f}\")"
      ],
      "metadata": {
        "colab": {
          "base_uri": "https://localhost:8080/"
        },
        "id": "XaErkt4IlfTa",
        "outputId": "a288bfbe-163b-4ece-b056-9ecf3bdcec49"
      },
      "execution_count": 43,
      "outputs": [
        {
          "output_type": "stream",
          "name": "stdout",
          "text": [
            "37/37 [==============================] - 0s 8ms/step - loss: 0.3539 - mean_squared_error: 0.3759\n",
            "Test Loss: 0.3539, Test MAE: 0.3759\n"
          ]
        }
      ]
    },
    {
      "cell_type": "markdown",
      "source": [
        "Peek at Predictions"
      ],
      "metadata": {
        "id": "nfxNfSZvmINq"
      }
    },
    {
      "cell_type": "code",
      "source": [
        "num_samples = 5\n",
        "sample_indices = np.random.choice(len(test), num_samples, replace=False)\n",
        "\n",
        "for idx in sample_indices:\n",
        "    entry = test.iloc[idx]['entry']\n",
        "    true_stats = stats.iloc[test.index[idx]]\n",
        "    predicted_stats_normalized = model.predict(np.expand_dims(test_padded[idx], axis=0))\n",
        "    predicted_stats_normalized = predicted_stats_normalized.reshape(-1)\n",
        "\n",
        "    # Denormalize the predicted stats\n",
        "    predicted_stats = np.round(predicted_stats_normalized * stats.std().values + stats.mean().values)\n",
        "\n",
        "    print(f\"Pokédex Entry: {entry}\")\n",
        "    print(f\"True Stats: {true_stats.values}\")\n",
        "    print(f\"Predicted Stats: {predicted_stats}\")\n",
        "    print(\"---\")"
      ],
      "metadata": {
        "colab": {
          "base_uri": "https://localhost:8080/"
        },
        "id": "yeeOB6tpmLLo",
        "outputId": "005bec2b-265c-4abe-e48a-1d9878d064ca"
      },
      "execution_count": 45,
      "outputs": [
        {
          "output_type": "stream",
          "name": "stdout",
          "text": [
            "1/1 [==============================] - 0s 28ms/step\n",
            "Pokédex Entry: Its fine fur feels sublime to the touch. It can expand its body by inhaling air.\n",
            "True Stats: [140  70  45  85  50  45]\n",
            "Predicted Stats: [140.  67.  39.  84.  47.  40.]\n",
            "---\n",
            "1/1 [==============================] - 0s 24ms/step\n",
            "Pokédex Entry: When it moves, it leaves only a blur. If it hides in grass, its protective coloration makes it invisible.\n",
            "True Stats: [ 70 110  80  55  80 105]\n",
            "Predicted Stats: [ 55.  88.  67.  39.  67. 100.]\n",
            "---\n",
            "1/1 [==============================] - 0s 24ms/step\n",
            "Pokédex Entry: HERACROSS has sharp claws on its feet. These are planted firmly into the ground or the bark of a tree, giving the POKéMON a secure and solid footing to forcefully fling away foes with its proud horn.\n",
            "True Stats: [ 80 125  75  40  95  85]\n",
            "Predicted Stats: [ 78. 126.  71.  39.  92.  85.]\n",
            "---\n",
            "1/1 [==============================] - 0s 24ms/step\n",
            "Pokédex Entry: This Pokémon was created using the cutting-edge science of 20 years ago, so many parts of it have since become obsolete.\n",
            "True Stats: [65 60 70 85 75 40]\n",
            "Predicted Stats: [48. 68. 97. 35. 38. 32.]\n",
            "---\n",
            "1/1 [==============================] - 0s 25ms/step\n",
            "Pokédex Entry: Once it sheds its skin, its body turns tender and whitish. Its hide hardens when it’s exposed to air.\n",
            "True Stats: [ 80 120 130  55  65  45]\n",
            "Predicted Stats: [ 78. 118. 101.  54.  64.  48.]\n",
            "---\n"
          ]
        }
      ]
    },
    {
      "cell_type": "markdown",
      "source": [
        "Test With User Input"
      ],
      "metadata": {
        "id": "fEYHcSL5wETU"
      }
    },
    {
      "cell_type": "code",
      "source": [
        "# Get user input for testing\n",
        "while True:\n",
        "    user_input = input(\"Enter a fake Pokédex entry (or 'quit' to exit): \")\n",
        "    if user_input.lower() == 'quit':\n",
        "        break\n",
        "\n",
        "    user_input_processed = preprocess_text(user_input)\n",
        "    user_input_sequence = tokenizer.texts_to_sequences([user_input_processed])\n",
        "    user_input_padded = pad_sequences(user_input_sequence, padding='post', maxlen=100)\n",
        "\n",
        "    # Make predictions on the user input\n",
        "    user_input_predicted_normalized = model.predict(user_input_padded)\n",
        "    user_input_predicted_normalized = user_input_predicted_normalized.reshape(-1)\n",
        "\n",
        "    user_input_predicted = np.round(user_input_predicted_normalized * stats.std().values + stats.mean().values)\n",
        "\n",
        "    print(\"Predicted Stats:\")\n",
        "    print(\"HP:\", user_input_predicted[0])\n",
        "    print(\"Attack:\", user_input_predicted[1])\n",
        "    print(\"Defense:\", user_input_predicted[2])\n",
        "    print(\"Special Attack:\", user_input_predicted[3])\n",
        "    print(\"Special Defense:\", user_input_predicted[4])\n",
        "    print(\"Speed:\", user_input_predicted[5])\n",
        "    print(\"---\")"
      ],
      "metadata": {
        "colab": {
          "base_uri": "https://localhost:8080/",
          "height": 918
        },
        "id": "VJJNQTIfwGEh",
        "outputId": "2f890f6d-7d36-497c-8dee-9b01f16f237d"
      },
      "execution_count": 47,
      "outputs": [
        {
          "output_type": "stream",
          "name": "stdout",
          "text": [
            "Enter a fake Pokédex entry (or 'quit' to exit): For some time after its birth, it uses the nutrients that are packed into the seed on its back in order to grow. The flame on its tail shows the strength of its life-force. If Charmander is weak, the flame also burns weakly. After birth, its back swells and hardens into a shell. It sprays a potent foam from its mouth.  \n",
            "1/1 [==============================] - 0s 27ms/step\n",
            "Predicted Stats:\n",
            "HP: 30.0\n",
            "Attack: 33.0\n",
            "Defense: 53.0\n",
            "Special Attack: 43.0\n",
            "Special Defense: 70.0\n",
            "Speed: 31.0\n",
            "---\n",
            "Enter a fake Pokédex entry (or 'quit' to exit): Junior is the overlord of the world. He eats, and eats, and never stops eating.\n",
            "1/1 [==============================] - 0s 28ms/step\n",
            "Predicted Stats:\n",
            "HP: 87.0\n",
            "Attack: 69.0\n",
            "Defense: 69.0\n",
            "Special Attack: 51.0\n",
            "Special Defense: 68.0\n",
            "Speed: 65.0\n",
            "---\n",
            "Enter a fake Pokédex entry (or 'quit' to exit): This cat creature can consume up to three hundred pounds of food per hour. When not eating, it sleeps until it can eat again. Disturbing its sleep causes it to lash out with powerful fangs.\n",
            "1/1 [==============================] - 0s 28ms/step\n",
            "Predicted Stats:\n",
            "HP: 92.0\n",
            "Attack: 112.0\n",
            "Defense: 98.0\n",
            "Special Attack: 82.0\n",
            "Special Defense: 85.0\n",
            "Speed: 100.0\n",
            "---\n"
          ]
        },
        {
          "output_type": "error",
          "ename": "KeyboardInterrupt",
          "evalue": "Interrupted by user",
          "traceback": [
            "\u001b[0;31m---------------------------------------------------------------------------\u001b[0m",
            "\u001b[0;31mKeyboardInterrupt\u001b[0m                         Traceback (most recent call last)",
            "\u001b[0;32m<ipython-input-47-6d9afa121c42>\u001b[0m in \u001b[0;36m<cell line: 2>\u001b[0;34m()\u001b[0m\n\u001b[1;32m      1\u001b[0m \u001b[0;31m# Get user input for testing\u001b[0m\u001b[0;34m\u001b[0m\u001b[0;34m\u001b[0m\u001b[0m\n\u001b[1;32m      2\u001b[0m \u001b[0;32mwhile\u001b[0m \u001b[0;32mTrue\u001b[0m\u001b[0;34m:\u001b[0m\u001b[0;34m\u001b[0m\u001b[0;34m\u001b[0m\u001b[0m\n\u001b[0;32m----> 3\u001b[0;31m     \u001b[0muser_input\u001b[0m \u001b[0;34m=\u001b[0m \u001b[0minput\u001b[0m\u001b[0;34m(\u001b[0m\u001b[0;34m\"Enter a fake Pokédex entry (or 'quit' to exit): \"\u001b[0m\u001b[0;34m)\u001b[0m\u001b[0;34m\u001b[0m\u001b[0;34m\u001b[0m\u001b[0m\n\u001b[0m\u001b[1;32m      4\u001b[0m     \u001b[0;32mif\u001b[0m \u001b[0muser_input\u001b[0m\u001b[0;34m.\u001b[0m\u001b[0mlower\u001b[0m\u001b[0;34m(\u001b[0m\u001b[0;34m)\u001b[0m \u001b[0;34m==\u001b[0m \u001b[0;34m'quit'\u001b[0m\u001b[0;34m:\u001b[0m\u001b[0;34m\u001b[0m\u001b[0;34m\u001b[0m\u001b[0m\n\u001b[1;32m      5\u001b[0m         \u001b[0;32mbreak\u001b[0m\u001b[0;34m\u001b[0m\u001b[0;34m\u001b[0m\u001b[0m\n",
            "\u001b[0;32m/usr/local/lib/python3.10/dist-packages/ipykernel/kernelbase.py\u001b[0m in \u001b[0;36mraw_input\u001b[0;34m(self, prompt)\u001b[0m\n\u001b[1;32m    849\u001b[0m                 \u001b[0;34m\"raw_input was called, but this frontend does not support input requests.\"\u001b[0m\u001b[0;34m\u001b[0m\u001b[0;34m\u001b[0m\u001b[0m\n\u001b[1;32m    850\u001b[0m             )\n\u001b[0;32m--> 851\u001b[0;31m         return self._input_request(str(prompt),\n\u001b[0m\u001b[1;32m    852\u001b[0m             \u001b[0mself\u001b[0m\u001b[0;34m.\u001b[0m\u001b[0m_parent_ident\u001b[0m\u001b[0;34m,\u001b[0m\u001b[0;34m\u001b[0m\u001b[0;34m\u001b[0m\u001b[0m\n\u001b[1;32m    853\u001b[0m             \u001b[0mself\u001b[0m\u001b[0;34m.\u001b[0m\u001b[0m_parent_header\u001b[0m\u001b[0;34m,\u001b[0m\u001b[0;34m\u001b[0m\u001b[0;34m\u001b[0m\u001b[0m\n",
            "\u001b[0;32m/usr/local/lib/python3.10/dist-packages/ipykernel/kernelbase.py\u001b[0m in \u001b[0;36m_input_request\u001b[0;34m(self, prompt, ident, parent, password)\u001b[0m\n\u001b[1;32m    893\u001b[0m             \u001b[0;32mexcept\u001b[0m \u001b[0mKeyboardInterrupt\u001b[0m\u001b[0;34m:\u001b[0m\u001b[0;34m\u001b[0m\u001b[0;34m\u001b[0m\u001b[0m\n\u001b[1;32m    894\u001b[0m                 \u001b[0;31m# re-raise KeyboardInterrupt, to truncate traceback\u001b[0m\u001b[0;34m\u001b[0m\u001b[0;34m\u001b[0m\u001b[0m\n\u001b[0;32m--> 895\u001b[0;31m                 \u001b[0;32mraise\u001b[0m \u001b[0mKeyboardInterrupt\u001b[0m\u001b[0;34m(\u001b[0m\u001b[0;34m\"Interrupted by user\"\u001b[0m\u001b[0;34m)\u001b[0m \u001b[0;32mfrom\u001b[0m \u001b[0;32mNone\u001b[0m\u001b[0;34m\u001b[0m\u001b[0;34m\u001b[0m\u001b[0m\n\u001b[0m\u001b[1;32m    896\u001b[0m             \u001b[0;32mexcept\u001b[0m \u001b[0mException\u001b[0m \u001b[0;32mas\u001b[0m \u001b[0me\u001b[0m\u001b[0;34m:\u001b[0m\u001b[0;34m\u001b[0m\u001b[0;34m\u001b[0m\u001b[0m\n\u001b[1;32m    897\u001b[0m                 \u001b[0mself\u001b[0m\u001b[0;34m.\u001b[0m\u001b[0mlog\u001b[0m\u001b[0;34m.\u001b[0m\u001b[0mwarning\u001b[0m\u001b[0;34m(\u001b[0m\u001b[0;34m\"Invalid Message:\"\u001b[0m\u001b[0;34m,\u001b[0m \u001b[0mexc_info\u001b[0m\u001b[0;34m=\u001b[0m\u001b[0;32mTrue\u001b[0m\u001b[0;34m)\u001b[0m\u001b[0;34m\u001b[0m\u001b[0;34m\u001b[0m\u001b[0m\n",
            "\u001b[0;31mKeyboardInterrupt\u001b[0m: Interrupted by user"
          ]
        }
      ]
    }
  ]
}